{
 "cells": [
  {
   "cell_type": "markdown",
   "id": "d3e7e4af-03e3-4a93-ab67-1367b8c68c4d",
   "metadata": {},
   "source": [
    "Q1. What is an API? Give an example, where an API is used in real life."
   ]
  },
  {
   "cell_type": "markdown",
   "id": "9f656016-ca26-485e-b51c-88b2dceb3877",
   "metadata": {},
   "source": [
    "Answere :- APIs are mechanisms that enable two software components to communicate with each other using a set of definitions and protocols. For example, the weather bureau’s software system contains daily weather data. The weather app on your phone “talks” to this system via APIs and shows you daily weather updates on your phone.\n",
    "Example :-  The Google Maps API gives users the privilege of nearly limitless geographic aptitude at their fingertips. Search nearby restaurants, niche shops, and whatever else is in relative distance to your location.\n",
    "You may have been using this API example more often than you realize. Each time you glimpsed business hours, reviews, contact information, or anything of that nature from that handy box on your screen, that is the Google Maps API in action. To that same effect, clicking on the map icon in that box will open the Google Maps app for you or take you straight to the Google Maps website."
   ]
  },
  {
   "cell_type": "markdown",
   "id": "f14a8d86-8c87-4804-b7ea-2eede5cde7b4",
   "metadata": {},
   "source": [
    "Q2. Give advantages and disadvantages of using API."
   ]
  },
  {
   "cell_type": "markdown",
   "id": "f700e42e-5088-4db1-b9cf-0f143e178e44",
   "metadata": {},
   "source": [
    "Answere :- Advantages and Disadvantages of API Infrastructure:\n",
    "\n",
    "Advantages:  \n",
    "\n",
    "1. Increased Interoperability: API solutions enable different software systems to communicate with each other, regardless of their programming language or platform. This enhances the interoperability between systems, allowing for the exchange of data and functionality.\n",
    "2. Improved Efficiency: API driven infrastructures enable developers to reuse code and functionality from existing software systems, saving time and reducing the amount of code that needs to be written from scratch.\n",
    "3. Better User Experience: APIs can enable third-party developers to create applications that integrate with existing software systems, providing a better user experience and increased functionality.\n",
    "4. Increased Flexibility: APIs provide developers with greater flexibility, enabling them to choose the best programming languages and frameworks for their needs.\n",
    "5. New Revenue Streams: APIs can enable companies to create new revenue streams by providing third-party developers with access to their software systems.\n",
    "\n",
    "Disadvantages:\n",
    "\n",
    "1. Security Concerns: API infrastructures can be vulnerable to security breaches, such as SQL injection attacks and cross-site scripting (XSS) attacks, making it crucial to implement security measures to protect against these threats.\n",
    "2. Complexity: APIs can be complex, requiring a significant amount of development effort to implement and maintain.\n",
    "3. Compatibility Issues: APIs can have compatibility issues between different versions of the same software system or between different systems, which can lead to errors and system failures.\n",
    "4. Dependency on Third-Party Developers: APIs rely on third-party developers to create applications that integrate with the software system. This can create dependencies that are outside of the control of the company that owns the software system.\n",
    "5. Governance and Management: APIs require proper governance and management to ensure they are being used correctly and consistently across different applications and systems."
   ]
  },
  {
   "cell_type": "markdown",
   "id": "d09ed6c9-6fa2-4a24-9625-77a25784f766",
   "metadata": {},
   "source": [
    "Q3. What is a Web API? Differentiate between API and Web API. "
   ]
  },
  {
   "cell_type": "markdown",
   "id": "d64fb264-ec06-432d-b0e1-d85bf1b27f62",
   "metadata": {},
   "source": [
    "Answere :- Web API as the name suggests, is an API over the web which can be accessed using HTTP protocol. It is a concept and not a technology. We can build Web API using different technologies such as Java, .NET etc. For example, Twitter's REST APIs provide programmatic access to read and write data using which we can integrate twitter's capabilities into our own application.\n",
    "\n",
    "Differentiate between API  and Web API :\n",
    "\n",
    "API and Web service serve as a means of communication. The only difference is that a Web service facilitates interaction between two machines over a network. An API acts as an interface between two different applications so that they can communicate with each other. An API is a method by which the third-party vendors can write programs that interface easily with other programs. A Web service is designed to have an interface that is depicted in a machine-processable format usually specified in Web Service Description Language (WSDL). Typically, “HTTP” is the most commonly used protocol for communication. Web service also uses SOAP, REST, and XML-RPC as a means of communication. API may use any means of communication to initiate interaction between applications. For example, the system calls are invoked using interrupts by the Linux kernel API. An API exactly defines the methods for one software program to interact with the other. When this action involves sending data over a network, Web services come into the picture. An API generally involves calling functions from within a software program. In case of Web applications, the API used is web based. Desktop applications such as spreadsheets and word documents use VBA and COM-based APIs which don’t involve Web service. A server application such as Joomla may use a PHP-based API present within the server which doesn’t require Web service."
   ]
  },
  {
   "cell_type": "markdown",
   "id": "577dbd68-a94b-490f-b657-eba7f1c2557c",
   "metadata": {},
   "source": [
    "Q4. Explain REST and SOAP Architecture. Mention shortcomings of SOAP."
   ]
  },
  {
   "cell_type": "markdown",
   "id": "b67c77dc-e73e-42b5-8c8d-b8aa3626310b",
   "metadata": {},
   "source": [
    "Answere :- \n",
    "\n",
    "REST: representational state transfer -\n",
    "\n",
    "REST is a set of architectural principles attuned to the needs of lightweight web services and mobile applications. Because it's a set of guidelines, it leaves the implementation of these recommendations to developers.\n",
    "When a request for data is sent to a REST API, it’s usually done through hypertext transfer protocol (commonly referred to as HTTP). Once a request is received, APIs designed for REST (called RESTful APIs or RESTful web services) can return messages in a variety of formats: HTML, XML, plain text, and JSON. JSON (JavaScript object notation) is favored as a message format because it can be read by any programming language (despite the name), is human- and machine-readable, and is lightweight. In this way, RESTful APIs are more flexible and can be easier to set up.\n",
    "An application is said to be RESTful if it follows 6 architectural guidelines. A RESTful application must have:\n",
    "\n",
    "1. A client-server architecture composed of clients, servers, and resources.\n",
    "2. Stateless client-server communication, meaning no client content is stored on the server between requests. Information about the session’s state is instead held with the client.\n",
    "3. Cacheable data to eliminate the need for some client-server interactions.\n",
    "4. A uniform interface between components so that information is transferred in a standardized form instead of specific to an application’s needs. This is described by Roy Fielding, the originator of REST, as “the central feature that distinguishes the REST architectural style from other network-based styles.”\n",
    "5. A layered system constraint, where client-server interactions can be mediated by hierarchical layers.\n",
    "6. Code on demand, allowing servers to extend the functionality of a client by transferring executable code (though also reducing visibility, making this an optional guideline).\n",
    "\n",
    "SOAP: simple object access protocol -\n",
    "\n",
    "SOAP is a standard protocol that was first designed so that applications built with different languages and on different platforms could communicate. Because it is a protocol, it imposes built-in rules that increase its complexity and overhead, which can lead to longer page load times. However, these standards also offer built-in compliances that can make it preferable for enterprise scenarios. The built-in compliance standards include security, atomicity, consistency, isolation, and durability (ACID), which is a set of properties for ensuring reliable database transactions.\n",
    "Common web service specifications include:\n",
    "\n",
    "1. Web services security (WS-security): Standardizes how messages are secured and transferred through unique identifiers called tokens.\n",
    "2. WS-ReliableMessaging: Standardizes error handling between messages transferred across unreliable IT infrastructure.\n",
    "3. Web services addressing (WS-addressing): Packages routing information as metadata within SOAP headers, instead of maintaining such information deeper within the network.\n",
    "4. Web services description language (WSDL): Describes what a web service does, and where that service begins and ends.\n",
    "\n",
    "shortcomings of SOAP :-\n",
    "\n",
    "As SOAP can only transfer messages as XML files, your SOAP API will be less performant, as XML is a verbose format compared to JSON. API calls made to your server will need more bandwidth and it will take more time to process the request and transfer the response back to the client."
   ]
  },
  {
   "cell_type": "markdown",
   "id": "63373de6-470c-4b21-b803-44a163a88405",
   "metadata": {},
   "source": [
    "Q5. Differentiate between REST and SOAP."
   ]
  },
  {
   "cell_type": "markdown",
   "id": "292d720d-033e-40d4-ac76-f175ebdc58f4",
   "metadata": {},
   "source": [
    "Answere :-\n",
    "1. SOAP stands for Simple Object Access Protocol whereas REST stands for Representational State Transfer.\n",
    "2. SOAP is a protocol whereas REST is an architectural pattern.\n",
    "3. SOAP uses service interfaces to expose its functionality to client applications while REST uses Uniform Service locators to access to the components on the hardware device.\n",
    "4. SOAP needs more bandwidth for its usage whereas REST doesn’t need much bandwidth.\n",
    "5. Comparing SOAP vs REST API, SOAP only works with XML formats whereas REST work with plain text, XML, HTML and JSON.\n",
    "6. SOAP cannot make use of REST whereas REST can make use of SOAP."
   ]
  },
  {
   "cell_type": "code",
   "execution_count": null,
   "id": "33232d7a-6031-45da-a83f-756608189d6c",
   "metadata": {},
   "outputs": [],
   "source": []
  }
 ],
 "metadata": {
  "kernelspec": {
   "display_name": "Python 3 (ipykernel)",
   "language": "python",
   "name": "python3"
  },
  "language_info": {
   "codemirror_mode": {
    "name": "ipython",
    "version": 3
   },
   "file_extension": ".py",
   "mimetype": "text/x-python",
   "name": "python",
   "nbconvert_exporter": "python",
   "pygments_lexer": "ipython3",
   "version": "3.10.8"
  }
 },
 "nbformat": 4,
 "nbformat_minor": 5
}
